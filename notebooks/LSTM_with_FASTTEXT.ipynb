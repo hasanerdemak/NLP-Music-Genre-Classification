{
 "cells": [
  {
   "cell_type": "code",
   "execution_count": 1,
   "metadata": {},
   "outputs": [],
   "source": [
    "from nltk.tokenize import RegexpTokenizer \n",
    "\n",
    "# For Training\n",
    "import tensorflow as tf\n",
    "import keras\n",
    "from keras.models import Sequential\n",
    "from keras.preprocessing.text import Tokenizer\n",
    "from keras.callbacks import EarlyStopping\n",
    "from keras.utils import to_categorical\n",
    "from keras.layers import LSTM, Dense, Dropout, Embedding, Bidirectional\n",
    "from keras.preprocessing.text import Tokenizer\n",
    "from keras_preprocessing.sequence import pad_sequences\n",
    "\n",
    "# For dataset, and visualizing\n",
    "import numpy as np\n",
    "import pandas as pd\n",
    "from sklearn.model_selection import train_test_split\n",
    "from sklearn.preprocessing import LabelEncoder\n",
    "import fasttext\n",
    "import fasttext.util\n",
    "from tqdm import tqdm\n",
    "import seaborn as sns\n",
    "import matplotlib.pyplot as plt\n",
    "import os\n",
    "\n",
    "sns.set_style(\"whitegrid\")\n",
    "np.random.seed(0)\n",
    "\n",
    "MAX_NB_WORDS = 100000\n",
    "tokenizer = RegexpTokenizer(r'\\w+')"
   ]
  },
  {
   "attachments": {},
   "cell_type": "markdown",
   "metadata": {},
   "source": [
    "### Veri Okuma"
   ]
  },
  {
   "cell_type": "code",
   "execution_count": 46,
   "metadata": {},
   "outputs": [],
   "source": [
    "df_dataset = pd.read_csv(\"../dataset/dataset.csv\").drop(columns=[\"baslik\"])"
   ]
  },
  {
   "attachments": {},
   "cell_type": "markdown",
   "metadata": {},
   "source": [
    "##### fasttext embeddingleri yükleme ve embedding index oluşturma"
   ]
  },
  {
   "cell_type": "code",
   "execution_count": 3,
   "metadata": {},
   "outputs": [
    {
     "name": "stdout",
     "output_type": "stream",
     "text": [
      "loading word embeddings...\n"
     ]
    },
    {
     "name": "stderr",
     "output_type": "stream",
     "text": [
      "100%|██████████| 2000000/2000000 [00:25<00:00, 79050.30it/s]"
     ]
    },
    {
     "name": "stdout",
     "output_type": "stream",
     "text": [
      "found 2000000 word vectors\n"
     ]
    },
    {
     "name": "stderr",
     "output_type": "stream",
     "text": [
      "\n"
     ]
    }
   ],
   "source": [
    "print('loading word embeddings...')\n",
    "\n",
    "path = '../models/cc.tr.300.bin'\n",
    "if (not os.path.exists(path)):\n",
    "    fasttext.util.download_model('tr', if_exists='ignore')\n",
    "    os.replace(\"cc.tr.300.bin\", path)\n",
    "    os.remove(\"cc.tr.300.bin.gz\")\n",
    "\n",
    "ft = fasttext.load_model(path)\n",
    "\n",
    "embeddings_index = {}\n",
    "# embedding_dim = 100\n",
    "# fasttext.util.reduce_model(ft, embedding_dim)\n",
    "words = ft.get_words()\n",
    "for word in tqdm(words):\n",
    "    embeddings_index[word] = ft.get_word_vector(word)\n",
    "\n",
    "print('found %s word vectors' % len(embeddings_index))"
   ]
  },
  {
   "cell_type": "code",
   "execution_count": 47,
   "metadata": {},
   "outputs": [],
   "source": [
    "train_df, test_df = train_test_split(df_dataset, test_size=0.2, random_state=42, shuffle=True)"
   ]
  },
  {
   "cell_type": "code",
   "execution_count": 48,
   "metadata": {},
   "outputs": [
    {
     "data": {
      "image/png": "[encoded data removed]",
      "text/plain": [
       "<Figure size 640x480 with 1 Axes>"
      ]
     },
     "metadata": {},
     "output_type": "display_data"
    }
   ],
   "source": [
    "label_names = [\"sarki_turu\"]\n",
    "y_train = train_df[label_names].values\n",
    "train_df['sarki_uzunlugu'] = train_df['sarki_sozu'].apply(lambda words: len(words.split(\" \")))\n",
    "max_seq_len = np.round(train_df['sarki_uzunlugu'].mean() + train_df['sarki_uzunlugu'].std()).astype(int)\n",
    "\n",
    "sns.histplot(train_df['sarki_uzunlugu'], kde=True, color='b', label='sarki uzunlugu')\n",
    "plt.axvline(x=max_seq_len, color='k', linestyle='--', label='max len')\n",
    "plt.title('sarki uzunlugu'); plt.legend()\n",
    "plt.show()"
   ]
  },
  {
   "cell_type": "code",
   "execution_count": 49,
   "metadata": {},
   "outputs": [
    {
     "name": "stdout",
     "output_type": "stream",
     "text": [
      "tokenizing input data...\n",
      "dictionary size:  27167\n"
     ]
    }
   ],
   "source": [
    "processed_docs_train = train_df['sarki_sozu'].tolist()\n",
    "processed_docs_test = test_df['sarki_sozu'].tolist() \n",
    "num_classes = 6\n",
    "\n",
    "print(\"tokenizing input data...\")\n",
    "tokenizer = Tokenizer(num_words=MAX_NB_WORDS, lower=True, char_level=False)\n",
    "tokenizer.fit_on_texts(processed_docs_train + processed_docs_test)  #leaky\n",
    "word_seq_train = tokenizer.texts_to_sequences(processed_docs_train)\n",
    "word_seq_test = tokenizer.texts_to_sequences(processed_docs_test)\n",
    "word_index = tokenizer.word_index\n",
    "print(\"dictionary size: \", len(word_index))\n",
    "\n",
    "#pad sequences\n",
    "word_seq_train = pad_sequences(word_seq_train, maxlen=max_seq_len)\n",
    "word_seq_test = pad_sequences(word_seq_test, maxlen=max_seq_len)"
   ]
  },
  {
   "attachments": {},
   "cell_type": "markdown",
   "metadata": {},
   "source": [
    "### Shape and Train with LSTM"
   ]
  },
  {
   "cell_type": "code",
   "execution_count": null,
   "metadata": {},
   "outputs": [],
   "source": [
    "#training params\n",
    "batch_size = 256 \n",
    "num_epochs = 40\n",
    "\n",
    "#model parameters\n",
    "num_filters = 64 \n",
    "embed_dim = 300 \n",
    "weight_decay = 1e-4"
   ]
  },
  {
   "cell_type": "code",
   "execution_count": null,
   "metadata": {},
   "outputs": [
    {
     "name": "stdout",
     "output_type": "stream",
     "text": [
      "preparing embedding matrix...\n",
      "number of null word embeddings: 4022\n"
     ]
    }
   ],
   "source": [
    "#embedding matrix\n",
    "\n",
    "print('preparing embedding matrix...')\n",
    "\n",
    "words_not_found = []\n",
    "nb_words = min(MAX_NB_WORDS, len(word_index)+1)\n",
    "embedding_matrix = np.zeros((nb_words, embed_dim))\n",
    "\n",
    "for word, i in word_index.items():\n",
    "    if i >= nb_words:\n",
    "        continue\n",
    "    embedding_vector = embeddings_index.get(word)\n",
    "    if (embedding_vector is not None) and len(embedding_vector) > 0:\n",
    "        # words not found in embedding index will be all-zeros.\n",
    "        embedding_matrix[i] = embedding_vector\n",
    "    else:\n",
    "        words_not_found.append(word)\n",
    "print('number of null word embeddings: %d' % np.sum(np.sum(embedding_matrix, axis=1) == 0))"
   ]
  },
  {
   "cell_type": "code",
   "execution_count": null,
   "metadata": {},
   "outputs": [
    {
     "name": "stdout",
     "output_type": "stream",
     "text": [
      "sample words not found:  ['ilanısın' 'toprağcığını' 'acımayacan' 'elmacid' 'durmaa' 'ravza’nın'\n",
      " 'mermiyim' 'mezhepdürür' 'siliyom' 'yolculuktа']\n"
     ]
    }
   ],
   "source": [
    "print(\"sample words not found: \", np.random.choice(words_not_found, 10))"
   ]
  },
  {
   "cell_type": "code",
   "execution_count": null,
   "metadata": {},
   "outputs": [
    {
     "name": "stderr",
     "output_type": "stream",
     "text": [
      "c:\\Users\\HasanErdemAK\\anaconda3\\envs\\nlp\\lib\\site-packages\\sklearn\\preprocessing\\_label.py:116: DataConversionWarning: A column-vector y was passed when a 1d array was expected. Please change the shape of y to (n_samples, ), for example using ravel().\n",
      "  y = column_or_1d(y, warn=True)\n"
     ]
    }
   ],
   "source": [
    "# Create label encoder instance\n",
    "label_encoder = LabelEncoder()\n",
    "\n",
    "# Fit and transform labels\n",
    "y_train = label_encoder.fit_transform(y_train)"
   ]
  },
  {
   "cell_type": "code",
   "execution_count": null,
   "metadata": {},
   "outputs": [
    {
     "data": {
      "text/plain": [
       "(960,)"
      ]
     },
     "execution_count": 11,
     "metadata": {},
     "output_type": "execute_result"
    }
   ],
   "source": [
    "y_train.shape"
   ]
  },
  {
   "cell_type": "code",
   "execution_count": null,
   "metadata": {},
   "outputs": [
    {
     "name": "stdout",
     "output_type": "stream",
     "text": [
      "Model: \"sequential_1\"\n",
      "_________________________________________________________________\n",
      " Layer (type)                Output Shape              Param #   \n",
      "=================================================================\n",
      " embedding_1 (Embedding)     (None, 197, 300)          8150400   \n",
      "                                                                 \n",
      " bidirectional_1 (Bidirectio  (None, 256)              439296    \n",
      " nal)                                                            \n",
      "                                                                 \n",
      " dense_2 (Dense)             (None, 64)                16448     \n",
      "                                                                 \n",
      " dropout_1 (Dropout)         (None, 64)                0         \n",
      "                                                                 \n",
      " dense_3 (Dense)             (None, 6)                 390       \n",
      "                                                                 \n",
      "=================================================================\n",
      "Total params: 8,606,534\n",
      "Trainable params: 456,134\n",
      "Non-trainable params: 8,150,400\n",
      "_________________________________________________________________\n"
     ]
    },
    {
     "data": {
      "text/plain": [
       "\"model = Sequential()\\nmodel.add(Embedding(vocab_size, embedding_dim, weights=[embedding_matrix], input_length=max_length, trainable=False))\\nmodel.add(LSTM(128, dropout=0.2, recurrent_dropout=0.2))\\nmodel.add(Dense(64, activation='relu'))\\nmodel.add(Dropout(0.5))\\nmodel.add(Dense(6, activation='softmax'))\\nmodel.compile(loss='sparse_categorical_crossentropy', optimizer='adam', metrics=['accuracy'])\""
      ]
     },
     "execution_count": 26,
     "metadata": {},
     "output_type": "execute_result"
    }
   ],
   "source": [
    "model = tf.keras.Sequential()\n",
    "\n",
    "model.add(Embedding(nb_words,embed_dim,input_length=max_seq_len, weights=[embedding_matrix],trainable=False))\n",
    "model.add(Bidirectional(LSTM(128, dropout=0.2, recurrent_dropout=0.2))) #model.add(Bidirectional(LSTM(32)))\n",
    "model.add(Dense(64,activation='relu'))\n",
    "model.add(Dropout(0.5))\n",
    "model.add(Dense(6,activation='softmax'))\n",
    "\n",
    "model.compile(loss='sparse_categorical_crossentropy', optimizer='adam', metrics=['accuracy'])\n",
    "\n",
    "model.summary()\n",
    "\n",
    "\"\"\"model = Sequential()\n",
    "model.add(Embedding(vocab_size, embedding_dim, weights=[embedding_matrix], input_length=max_length, trainable=False))\n",
    "model.add(LSTM(128, dropout=0.2, recurrent_dropout=0.2))\n",
    "model.add(Dense(64, activation='relu'))\n",
    "model.add(Dropout(0.5))\n",
    "model.add(Dense(6, activation='softmax'))\n",
    "model.compile(loss='sparse_categorical_crossentropy', optimizer='adam', metrics=['accuracy'])\"\"\""
   ]
  },
  {
   "cell_type": "code",
   "execution_count": null,
   "metadata": {},
   "outputs": [
    {
     "name": "stdout",
     "output_type": "stream",
     "text": [
      "Epoch 1/40\n",
      "3/3 [==============================] - 17s 3s/step - loss: 1.7876 - accuracy: 0.1771 - val_loss: 1.7631 - val_accuracy: 0.3368\n",
      "Epoch 2/40\n",
      "3/3 [==============================] - 6s 2s/step - loss: 1.7496 - accuracy: 0.3289 - val_loss: 1.7127 - val_accuracy: 0.3576\n",
      "Epoch 3/40\n",
      "3/3 [==============================] - 7s 2s/step - loss: 1.6982 - accuracy: 0.3452 - val_loss: 1.5960 - val_accuracy: 0.3507\n",
      "Epoch 4/40\n",
      "3/3 [==============================] - 7s 2s/step - loss: 1.6053 - accuracy: 0.3661 - val_loss: 1.4946 - val_accuracy: 0.3472\n",
      "Epoch 5/40\n",
      "3/3 [==============================] - 7s 2s/step - loss: 1.5234 - accuracy: 0.3616 - val_loss: 1.4187 - val_accuracy: 0.4549\n",
      "Epoch 6/40\n",
      "3/3 [==============================] - 7s 2s/step - loss: 1.4230 - accuracy: 0.4167 - val_loss: 1.3990 - val_accuracy: 0.4097\n",
      "Epoch 7/40\n",
      "3/3 [==============================] - 7s 2s/step - loss: 1.3827 - accuracy: 0.4405 - val_loss: 1.2225 - val_accuracy: 0.5069\n",
      "Epoch 8/40\n",
      "3/3 [==============================] - 7s 2s/step - loss: 1.2975 - accuracy: 0.4836 - val_loss: 1.1705 - val_accuracy: 0.5347\n",
      "Epoch 9/40\n",
      "3/3 [==============================] - 7s 2s/step - loss: 1.2481 - accuracy: 0.4836 - val_loss: 1.0952 - val_accuracy: 0.5903\n",
      "Epoch 10/40\n",
      "3/3 [==============================] - 7s 2s/step - loss: 1.1709 - accuracy: 0.5030 - val_loss: 1.0174 - val_accuracy: 0.6285\n",
      "Epoch 11/40\n",
      "3/3 [==============================] - 7s 2s/step - loss: 1.1254 - accuracy: 0.5536 - val_loss: 0.9265 - val_accuracy: 0.6562\n",
      "Epoch 12/40\n",
      "3/3 [==============================] - 7s 2s/step - loss: 1.0138 - accuracy: 0.5967 - val_loss: 0.9125 - val_accuracy: 0.6597\n",
      "Epoch 13/40\n",
      "3/3 [==============================] - 7s 2s/step - loss: 1.0171 - accuracy: 0.6057 - val_loss: 0.9825 - val_accuracy: 0.6250\n",
      "Epoch 14/40\n",
      "3/3 [==============================] - 7s 2s/step - loss: 1.1022 - accuracy: 0.5595 - val_loss: 0.9501 - val_accuracy: 0.6806\n",
      "Epoch 15/40\n",
      "3/3 [==============================] - 7s 2s/step - loss: 1.0105 - accuracy: 0.6339 - val_loss: 0.9030 - val_accuracy: 0.7083\n",
      "Epoch 16/40\n",
      "3/3 [==============================] - 7s 2s/step - loss: 0.9462 - accuracy: 0.6295 - val_loss: 0.8168 - val_accuracy: 0.6944\n",
      "Epoch 17/40\n",
      "3/3 [==============================] - 7s 2s/step - loss: 0.9634 - accuracy: 0.6339 - val_loss: 0.7723 - val_accuracy: 0.7257\n",
      "Epoch 18/40\n",
      "3/3 [==============================] - 7s 2s/step - loss: 0.9200 - accuracy: 0.6250 - val_loss: 0.8871 - val_accuracy: 0.7049\n",
      "Epoch 19/40\n",
      "3/3 [==============================] - 7s 2s/step - loss: 0.8738 - accuracy: 0.6652 - val_loss: 0.7859 - val_accuracy: 0.7153\n",
      "Epoch 20/40\n",
      "3/3 [==============================] - 7s 2s/step - loss: 0.8681 - accuracy: 0.6622 - val_loss: 0.7811 - val_accuracy: 0.7083\n",
      "Epoch 21/40\n",
      "3/3 [==============================] - 7s 2s/step - loss: 0.8462 - accuracy: 0.6979 - val_loss: 0.7882 - val_accuracy: 0.6944\n",
      "Epoch 22/40\n",
      "3/3 [==============================] - 7s 2s/step - loss: 0.8101 - accuracy: 0.6860 - val_loss: 0.7617 - val_accuracy: 0.7361\n",
      "Epoch 23/40\n",
      "3/3 [==============================] - 7s 2s/step - loss: 0.7856 - accuracy: 0.6801 - val_loss: 0.7769 - val_accuracy: 0.7257\n",
      "Epoch 24/40\n",
      "3/3 [==============================] - 7s 2s/step - loss: 0.7701 - accuracy: 0.7188 - val_loss: 0.7428 - val_accuracy: 0.7535\n",
      "Epoch 25/40\n",
      "3/3 [==============================] - 7s 2s/step - loss: 0.7269 - accuracy: 0.7307 - val_loss: 0.7150 - val_accuracy: 0.7535\n",
      "Epoch 26/40\n",
      "3/3 [==============================] - 7s 2s/step - loss: 0.7122 - accuracy: 0.7307 - val_loss: 0.8262 - val_accuracy: 0.7118\n",
      "Epoch 27/40\n",
      "3/3 [==============================] - 7s 2s/step - loss: 0.7626 - accuracy: 0.7054 - val_loss: 0.7775 - val_accuracy: 0.7188\n",
      "Epoch 28/40\n",
      "3/3 [==============================] - 7s 2s/step - loss: 0.7639 - accuracy: 0.7232 - val_loss: 0.6837 - val_accuracy: 0.7465\n",
      "Epoch 29/40\n",
      "3/3 [==============================] - 7s 2s/step - loss: 0.7035 - accuracy: 0.7545 - val_loss: 0.7048 - val_accuracy: 0.7361\n",
      "Epoch 30/40\n",
      "3/3 [==============================] - 7s 2s/step - loss: 0.7078 - accuracy: 0.7574 - val_loss: 0.7334 - val_accuracy: 0.7431\n",
      "Epoch 31/40\n",
      "3/3 [==============================] - 7s 2s/step - loss: 0.7004 - accuracy: 0.7723 - val_loss: 0.6913 - val_accuracy: 0.7847\n",
      "Epoch 32/40\n",
      "3/3 [==============================] - 7s 2s/step - loss: 0.6381 - accuracy: 0.7753 - val_loss: 0.6975 - val_accuracy: 0.7639\n",
      "Epoch 33/40\n",
      "3/3 [==============================] - 7s 2s/step - loss: 0.6323 - accuracy: 0.7842 - val_loss: 0.7446 - val_accuracy: 0.7396\n",
      "Epoch 34/40\n",
      "3/3 [==============================] - 7s 2s/step - loss: 0.6124 - accuracy: 0.7902 - val_loss: 0.7099 - val_accuracy: 0.7639\n",
      "Epoch 35/40\n",
      "3/3 [==============================] - 7s 2s/step - loss: 0.5947 - accuracy: 0.7812 - val_loss: 0.7268 - val_accuracy: 0.7569\n",
      "Epoch 36/40\n",
      "3/3 [==============================] - 7s 2s/step - loss: 0.5767 - accuracy: 0.7946 - val_loss: 0.6935 - val_accuracy: 0.7708\n",
      "Epoch 37/40\n",
      "3/3 [==============================] - 7s 2s/step - loss: 0.6057 - accuracy: 0.7872 - val_loss: 0.7656 - val_accuracy: 0.7326\n",
      "Epoch 38/40\n",
      "3/3 [==============================] - 7s 2s/step - loss: 0.5751 - accuracy: 0.7812 - val_loss: 0.7049 - val_accuracy: 0.7639\n",
      "Epoch 39/40\n",
      "3/3 [==============================] - 7s 2s/step - loss: 0.5708 - accuracy: 0.7976 - val_loss: 0.7127 - val_accuracy: 0.7708\n",
      "Epoch 40/40\n",
      "3/3 [==============================] - 7s 2s/step - loss: 0.5648 - accuracy: 0.8036 - val_loss: 0.7492 - val_accuracy: 0.7674\n"
     ]
    }
   ],
   "source": [
    "es_callback = EarlyStopping(monitor='val_loss', patience=5)\n",
    "\n",
    "history = model.fit(word_seq_train, y_train, batch_size=batch_size,\n",
    "          epochs=num_epochs, validation_split=0.3, shuffle=False)"
   ]
  },
  {
   "attachments": {},
   "cell_type": "markdown",
   "metadata": {},
   "source": [
    "0.71\n",
    "0.74\n",
    "0.77\n",
    "0.78"
   ]
  },
  {
   "cell_type": "code",
   "execution_count": null,
   "metadata": {},
   "outputs": [
    {
     "name": "stdout",
     "output_type": "stream",
     "text": [
      "INFO:tensorflow:Assets written to: ../models/lstm_with_fasttext\\assets\n"
     ]
    }
   ],
   "source": [
    "model.save(\"../models/lstm_with_fasttext\")"
   ]
  },
  {
   "cell_type": "code",
   "execution_count": null,
   "metadata": {},
   "outputs": [
    {
     "data": {
      "text/plain": [
       "0.7847222089767456"
      ]
     },
     "execution_count": 38,
     "metadata": {},
     "output_type": "execute_result"
    }
   ],
   "source": [
    "max(history.history[\"val_accuracy\"])"
   ]
  },
  {
   "cell_type": "code",
   "execution_count": null,
   "metadata": {},
   "outputs": [
    {
     "data": {
      "image/png": "[encoded data removed]",
      "text/plain": [
       "<Figure size 640x480 with 1 Axes>"
      ]
     },
     "metadata": {},
     "output_type": "display_data"
    }
   ],
   "source": [
    "#generate plots\n",
    "plt.figure()\n",
    "plt.plot(history.history['loss'], lw=2.0, color='b', label='train')\n",
    "plt.plot(history.history['val_loss'], lw=2.0, color='r', label='val')\n",
    "plt.title('LSTM music genre')\n",
    "plt.xlabel('Epochs')\n",
    "plt.ylabel('Cross-Entropy Loss')\n",
    "plt.legend(loc='upper right')\n",
    "plt.show()"
   ]
  },
  {
   "cell_type": "code",
   "execution_count": null,
   "metadata": {},
   "outputs": [
    {
     "data": {
      "image/png": "[encoded data removed]",
      "text/plain": [
       "<Figure size 640x480 with 1 Axes>"
      ]
     },
     "metadata": {},
     "output_type": "display_data"
    }
   ],
   "source": [
    "plt.figure()\n",
    "plt.plot(history.history['accuracy'], lw=2.0, color='b', label='train')\n",
    "plt.plot(history.history['val_accuracy'], lw=2.0, color='r', label='val')\n",
    "plt.title('LSTM music genre')\n",
    "plt.xlabel('Epochs')\n",
    "plt.ylabel('Accuracy')\n",
    "plt.legend(loc='upper left')\n",
    "plt.show()"
   ]
  },
  {
   "cell_type": "code",
   "execution_count": null,
   "metadata": {},
   "outputs": [],
   "source": [
    "keras.backend.clear_session()"
   ]
  },
  {
   "attachments": {},
   "cell_type": "markdown",
   "metadata": {},
   "source": [
    "##### Submission"
   ]
  },
  {
   "cell_type": "code",
   "execution_count": 53,
   "metadata": {},
   "outputs": [],
   "source": [
    "from tensorflow.keras.models import load_model\n",
    "\n",
    "model = load_model(\"../models/lstm_with_fasttext\")"
   ]
  },
  {
   "cell_type": "code",
   "execution_count": 57,
   "metadata": {},
   "outputs": [
    {
     "name": "stdout",
     "output_type": "stream",
     "text": [
      "tokenizing input data...\n",
      "1/1 [==============================] - 0s 119ms/step\n",
      "['sanat']\n"
     ]
    }
   ],
   "source": [
    "test_df = pd.read_csv(\"../dataset/demo_dataset.csv\")\n",
    "\n",
    "processed_docs_test = test_df['sarki_sozu'].tolist() \n",
    "\n",
    "print(\"tokenizing input data...\")\n",
    "tokenizer = Tokenizer(num_words=MAX_NB_WORDS, lower=True, char_level=False)\n",
    "tokenizer.fit_on_texts(processed_docs_test) \n",
    "word_seq_test = tokenizer.texts_to_sequences(processed_docs_test)\n",
    "\n",
    "#pad sequences\n",
    "word_seq_test = pad_sequences(word_seq_test, maxlen=197)\n",
    "\n",
    "predictions = model.predict(word_seq_test)\n",
    "pred_labels = np.argmax(predictions, axis=1)\n",
    "\n",
    "label_mapping = {0: \"halk\", 1: \"ilahi\", 2: \"pop\", 3: \"rap\", 4: \"rock\", 5: \"sanat\"}\n",
    "converted_pred_labels = [label_mapping[x] for x in pred_labels]\n",
    "print(converted_pred_labels)"
   ]
  },
  {
   "cell_type": "code",
   "execution_count": 50,
   "metadata": {},
   "outputs": [
    {
     "name": "stderr",
     "output_type": "stream",
     "text": [
      "c:\\Users\\HasanErdemAK\\anaconda3\\envs\\nlp\\lib\\site-packages\\sklearn\\preprocessing\\_label.py:116: DataConversionWarning: A column-vector y was passed when a 1d array was expected. Please change the shape of y to (n_samples, ), for example using ravel().\n",
      "  y = column_or_1d(y, warn=True)\n"
     ]
    },
    {
     "name": "stdout",
     "output_type": "stream",
     "text": [
      "8/8 [==============================] - 1s 155ms/step\n",
      "Accuracy With fastText :\n",
      "0.7666666666666667\n"
     ]
    }
   ],
   "source": [
    "label_encoder = LabelEncoder()\n",
    "y_test = test_df[label_names].values\n",
    "y_test = label_encoder.fit_transform(y_test)\n",
    "\n",
    "predictions = model.predict(word_seq_test)\n",
    "pred_labels = np.argmax(predictions, axis=1)\n",
    "\n",
    "sample = pd.DataFrame()\n",
    "sample['pred']= pred_labels\n",
    "sample[\"target\"] = y_test\n",
    "sample[['pred', \"target\"]]\n",
    "\n",
    "import sklearn\n",
    "\n",
    "print(\"Accuracy With fastText :\")\n",
    "print(sklearn.metrics.accuracy_score(sample.target, sample.pred))\n",
    "\n",
    "label_mapping = {0: \"halk\", 1: \"sanat\", 2: \"ilahi\", 3: \"pop\", 4: \"rock\", 5: \"rap\"}\n",
    "converted_pred_labels = [label_mapping[x] for x in pred_labels]\n",
    "converted_y_test = [label_mapping[x] for x in y_test]\n",
    "\n",
    "submission = pd.DataFrame()\n",
    "submission[\"Şarkı Sözü\"] = test_df[\"sarki_sozu\"]\n",
    "submission[\"Tahminler\"] = converted_pred_labels\n",
    "submission[\"Gerçek Değerler\"] = converted_y_test\n",
    "submission.to_csv(\"../submissions/submission.csv\")"
   ]
  },
  {
   "cell_type": "code",
   "execution_count": null,
   "metadata": {},
   "outputs": [],
   "source": [
    "# we don't want the model to overwrite, dont we?\n",
    "keras.backend.clear_session()"
   ]
  },
  {
   "cell_type": "code",
   "execution_count": null,
   "metadata": {},
   "outputs": [
    {
     "data": {
      "text/plain": [
       "array([3, 4, 0, 1, 0, 3, 5, 4, 1, 4, 4, 0, 0, 4, 5, 0, 1, 2, 4, 1, 5, 2,\n",
       "       2, 5, 0, 5, 2, 1, 5, 1, 5, 4, 2, 2, 5, 1, 1, 0, 5, 2, 3, 0, 3, 5,\n",
       "       4, 5, 5, 0, 0, 5, 2, 3, 5, 0, 3, 5, 4, 3, 3, 5, 5, 0, 5, 0, 0, 4,\n",
       "       0, 1, 1, 1, 1, 0, 3, 0, 0, 1, 0, 0, 4, 4, 3, 5, 4, 0, 1, 3, 3, 0,\n",
       "       3, 2, 1, 1, 5, 5, 3, 2, 1, 4, 5, 0, 1, 0, 2, 0, 4, 2, 3, 4, 3, 4,\n",
       "       5, 4, 0, 4, 2, 3, 5, 0, 2, 0, 1, 4, 3, 3, 1, 3, 5, 0, 2, 2, 5, 3,\n",
       "       5, 5, 3, 2, 2, 1, 1, 4, 3, 2, 5, 2, 2, 1, 2, 2, 1, 1, 3, 5, 2, 5,\n",
       "       4, 1, 5, 5, 3, 5, 3, 4, 3, 5, 5, 4, 0, 4, 4, 0, 2, 4, 5, 5, 0, 1,\n",
       "       0, 3, 0, 2, 2, 4, 5, 3, 5, 4, 1, 4, 1, 1, 4, 2, 0, 4, 1, 0, 0, 4,\n",
       "       4, 5, 4, 4, 2, 4, 4, 5, 2, 2, 2, 3, 3, 2, 1, 4, 4, 5, 2, 5, 2, 1,\n",
       "       3, 4, 3, 4, 5, 1, 2, 0, 5, 2, 5, 0, 3, 2, 4, 5, 4, 1, 3, 4])"
      ]
     },
     "execution_count": 59,
     "metadata": {},
     "output_type": "execute_result"
    }
   ],
   "source": [
    "y_test"
   ]
  },
  {
   "cell_type": "code",
   "execution_count": null,
   "metadata": {},
   "outputs": [
    {
     "data": {
      "text/html": [
       "<div>\n",
       "<style scoped>\n",
       "    .dataframe tbody tr th:only-of-type {\n",
       "        vertical-align: middle;\n",
       "    }\n",
       "\n",
       "    .dataframe tbody tr th {\n",
       "        vertical-align: top;\n",
       "    }\n",
       "\n",
       "    .dataframe thead th {\n",
       "        text-align: right;\n",
       "    }\n",
       "</style>\n",
       "<table border=\"1\" class=\"dataframe\">\n",
       "  <thead>\n",
       "    <tr style=\"text-align: right;\">\n",
       "      <th></th>\n",
       "      <th>id</th>\n",
       "      <th>sarki_sozu</th>\n",
       "      <th>sarki_turu</th>\n",
       "      <th>eski_turkce_kelime_orani</th>\n",
       "      <th>fiil_orani</th>\n",
       "      <th>sifat_orani</th>\n",
       "      <th>zarf_orani</th>\n",
       "      <th>baglac_orani</th>\n",
       "      <th>unlem_orani</th>\n",
       "      <th>soru_orani</th>\n",
       "      <th>bilinmeyen_orani</th>\n",
       "    </tr>\n",
       "  </thead>\n",
       "  <tbody>\n",
       "    <tr>\n",
       "      <th>1178</th>\n",
       "      <td>1178</td>\n",
       "      <td>bu gece yine kafalar iyi peşimizde paparazi\\n5...</td>\n",
       "      <td>rap</td>\n",
       "      <td>0.05</td>\n",
       "      <td>0.08</td>\n",
       "      <td>0.14</td>\n",
       "      <td>0.06</td>\n",
       "      <td>0.02</td>\n",
       "      <td>0.01</td>\n",
       "      <td>0.00</td>\n",
       "      <td>0.07</td>\n",
       "    </tr>\n",
       "    <tr>\n",
       "      <th>865</th>\n",
       "      <td>865</td>\n",
       "      <td>bizi tanıyan herkes bilir senle ben eskiden be...</td>\n",
       "      <td>rock</td>\n",
       "      <td>0.03</td>\n",
       "      <td>0.14</td>\n",
       "      <td>0.03</td>\n",
       "      <td>0.16</td>\n",
       "      <td>0.00</td>\n",
       "      <td>0.05</td>\n",
       "      <td>0.01</td>\n",
       "      <td>0.00</td>\n",
       "    </tr>\n",
       "    <tr>\n",
       "      <th>101</th>\n",
       "      <td>101</td>\n",
       "      <td>hekimoğlu derler benim aslıma\\naynalı martin y...</td>\n",
       "      <td>halk</td>\n",
       "      <td>0.09</td>\n",
       "      <td>0.19</td>\n",
       "      <td>0.07</td>\n",
       "      <td>0.00</td>\n",
       "      <td>0.11</td>\n",
       "      <td>0.00</td>\n",
       "      <td>0.00</td>\n",
       "      <td>0.00</td>\n",
       "    </tr>\n",
       "    <tr>\n",
       "      <th>439</th>\n",
       "      <td>439</td>\n",
       "      <td>güller sümbüller\\nöten bülbüller\\nyanık gönüll...</td>\n",
       "      <td>ilahi</td>\n",
       "      <td>0.07</td>\n",
       "      <td>0.09</td>\n",
       "      <td>0.14</td>\n",
       "      <td>0.00</td>\n",
       "      <td>0.07</td>\n",
       "      <td>0.00</td>\n",
       "      <td>0.00</td>\n",
       "      <td>0.07</td>\n",
       "    </tr>\n",
       "    <tr>\n",
       "      <th>58</th>\n",
       "      <td>58</td>\n",
       "      <td>dedim gız yaşın nedir dedi başımdır\\ndedim gız...</td>\n",
       "      <td>halk</td>\n",
       "      <td>0.05</td>\n",
       "      <td>0.63</td>\n",
       "      <td>0.04</td>\n",
       "      <td>0.00</td>\n",
       "      <td>0.00</td>\n",
       "      <td>0.00</td>\n",
       "      <td>0.00</td>\n",
       "      <td>0.15</td>\n",
       "    </tr>\n",
       "    <tr>\n",
       "      <th>...</th>\n",
       "      <td>...</td>\n",
       "      <td>...</td>\n",
       "      <td>...</td>\n",
       "      <td>...</td>\n",
       "      <td>...</td>\n",
       "      <td>...</td>\n",
       "      <td>...</td>\n",
       "      <td>...</td>\n",
       "      <td>...</td>\n",
       "      <td>...</td>\n",
       "      <td>...</td>\n",
       "    </tr>\n",
       "    <tr>\n",
       "      <th>382</th>\n",
       "      <td>382</td>\n",
       "      <td>üsküdara gider iken aldı da bir yağmur\\nkatibi...</td>\n",
       "      <td>sanat</td>\n",
       "      <td>0.05</td>\n",
       "      <td>0.20</td>\n",
       "      <td>0.13</td>\n",
       "      <td>0.08</td>\n",
       "      <td>0.05</td>\n",
       "      <td>0.00</td>\n",
       "      <td>0.00</td>\n",
       "      <td>0.00</td>\n",
       "    </tr>\n",
       "    <tr>\n",
       "      <th>867</th>\n",
       "      <td>867</td>\n",
       "      <td>dünya döner bir gün daha\\nyeryüzünde aşk durdu...</td>\n",
       "      <td>rock</td>\n",
       "      <td>0.16</td>\n",
       "      <td>0.20</td>\n",
       "      <td>0.03</td>\n",
       "      <td>0.15</td>\n",
       "      <td>0.05</td>\n",
       "      <td>0.00</td>\n",
       "      <td>0.00</td>\n",
       "      <td>0.03</td>\n",
       "    </tr>\n",
       "    <tr>\n",
       "      <th>542</th>\n",
       "      <td>542</td>\n",
       "      <td>seherde ötüşen kuşlar\\nbilmem ne diyor ne diyo...</td>\n",
       "      <td>ilahi</td>\n",
       "      <td>0.14</td>\n",
       "      <td>0.27</td>\n",
       "      <td>0.10</td>\n",
       "      <td>0.14</td>\n",
       "      <td>0.01</td>\n",
       "      <td>0.00</td>\n",
       "      <td>0.00</td>\n",
       "      <td>0.03</td>\n",
       "    </tr>\n",
       "    <tr>\n",
       "      <th>1193</th>\n",
       "      <td>1193</td>\n",
       "      <td>talaş toz toprak her yer\\nyakınlaş dünyama bas...</td>\n",
       "      <td>rap</td>\n",
       "      <td>0.08</td>\n",
       "      <td>0.13</td>\n",
       "      <td>0.13</td>\n",
       "      <td>0.03</td>\n",
       "      <td>0.03</td>\n",
       "      <td>0.00</td>\n",
       "      <td>0.00</td>\n",
       "      <td>0.11</td>\n",
       "    </tr>\n",
       "    <tr>\n",
       "      <th>874</th>\n",
       "      <td>874</td>\n",
       "      <td>durup düşünmeye zamanın olur mu\\nyitirmeden an...</td>\n",
       "      <td>rock</td>\n",
       "      <td>0.12</td>\n",
       "      <td>0.17</td>\n",
       "      <td>0.09</td>\n",
       "      <td>0.18</td>\n",
       "      <td>0.04</td>\n",
       "      <td>0.00</td>\n",
       "      <td>0.01</td>\n",
       "      <td>0.02</td>\n",
       "    </tr>\n",
       "  </tbody>\n",
       "</table>\n",
       "<p>240 rows × 11 columns</p>\n",
       "</div>"
      ],
      "text/plain": [
       "        id                                         sarki_sozu sarki_turu  \\\n",
       "1178  1178  bu gece yine kafalar iyi peşimizde paparazi\\n5...        rap   \n",
       "865    865  bizi tanıyan herkes bilir senle ben eskiden be...       rock   \n",
       "101    101  hekimoğlu derler benim aslıma\\naynalı martin y...       halk   \n",
       "439    439  güller sümbüller\\nöten bülbüller\\nyanık gönüll...      ilahi   \n",
       "58      58  dedim gız yaşın nedir dedi başımdır\\ndedim gız...       halk   \n",
       "...    ...                                                ...        ...   \n",
       "382    382  üsküdara gider iken aldı da bir yağmur\\nkatibi...      sanat   \n",
       "867    867  dünya döner bir gün daha\\nyeryüzünde aşk durdu...       rock   \n",
       "542    542  seherde ötüşen kuşlar\\nbilmem ne diyor ne diyo...      ilahi   \n",
       "1193  1193  talaş toz toprak her yer\\nyakınlaş dünyama bas...        rap   \n",
       "874    874  durup düşünmeye zamanın olur mu\\nyitirmeden an...       rock   \n",
       "\n",
       "      eski_turkce_kelime_orani  fiil_orani  sifat_orani  zarf_orani  \\\n",
       "1178                      0.05        0.08         0.14        0.06   \n",
       "865                       0.03        0.14         0.03        0.16   \n",
       "101                       0.09        0.19         0.07        0.00   \n",
       "439                       0.07        0.09         0.14        0.00   \n",
       "58                        0.05        0.63         0.04        0.00   \n",
       "...                        ...         ...          ...         ...   \n",
       "382                       0.05        0.20         0.13        0.08   \n",
       "867                       0.16        0.20         0.03        0.15   \n",
       "542                       0.14        0.27         0.10        0.14   \n",
       "1193                      0.08        0.13         0.13        0.03   \n",
       "874                       0.12        0.17         0.09        0.18   \n",
       "\n",
       "      baglac_orani  unlem_orani  soru_orani  bilinmeyen_orani  \n",
       "1178          0.02         0.01        0.00              0.07  \n",
       "865           0.00         0.05        0.01              0.00  \n",
       "101           0.11         0.00        0.00              0.00  \n",
       "439           0.07         0.00        0.00              0.07  \n",
       "58            0.00         0.00        0.00              0.15  \n",
       "...            ...          ...         ...               ...  \n",
       "382           0.05         0.00        0.00              0.00  \n",
       "867           0.05         0.00        0.00              0.03  \n",
       "542           0.01         0.00        0.00              0.03  \n",
       "1193          0.03         0.00        0.00              0.11  \n",
       "874           0.04         0.00        0.01              0.02  \n",
       "\n",
       "[240 rows x 11 columns]"
      ]
     },
     "execution_count": 58,
     "metadata": {},
     "output_type": "execute_result"
    }
   ],
   "source": [
    "test_df"
   ]
  }
 ],
 "metadata": {
  "kernelspec": {
   "display_name": "nlp",
   "language": "python",
   "name": "python3"
  },
  "language_info": {
   "codemirror_mode": {
    "name": "ipython",
    "version": 3
   },
   "file_extension": ".py",
   "mimetype": "text/x-python",
   "name": "python",
   "nbconvert_exporter": "python",
   "pygments_lexer": "ipython3",
   "version": "3.9.16"
  },
  "orig_nbformat": 4
 },
 "nbformat": 4,
 "nbformat_minor": 2
}
