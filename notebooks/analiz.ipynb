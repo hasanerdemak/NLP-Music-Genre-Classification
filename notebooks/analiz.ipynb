{
 "cells": [
  {
   "cell_type": "code",
   "execution_count": 1,
   "metadata": {},
   "outputs": [],
   "source": [
    "import pandas as pd\n",
    "import string"
   ]
  },
  {
   "attachments": {},
   "cell_type": "markdown",
   "metadata": {},
   "source": [
    "# Verisetinin Okunması"
   ]
  },
  {
   "cell_type": "code",
   "execution_count": 2,
   "metadata": {},
   "outputs": [],
   "source": [
    "halk_dataset = pd.read_csv(\"../dataset/halk.csv\", usecols=[\"sarki_sozu\"])\n",
    "sanat_dataset = pd.read_csv(\"../dataset/sanat.csv\", usecols=[\"sarki_sozu\"])\n",
    "ilahi_dataset = pd.read_csv(\"../dataset/ilahi.csv\", usecols=[\"sarki_sozu\"])\n",
    "pop_dataset = pd.read_csv(\"../dataset/pop.csv\", usecols=[\"sarki_sozu\"])\n",
    "rock_dataset = pd.read_csv(\"../dataset/rock.csv\", usecols=[\"sarki_sozu\"])\n",
    "rap_dataset = pd.read_csv(\"../dataset/rap.csv\", usecols=[\"sarki_sozu\"])\n",
    "\n",
    "# Veri Etiketleme\n",
    "halk_dataset[\"sarki_turu\"] = [0 for _ in range(200)]\n",
    "sanat_dataset[\"sarki_turu\"] = [1 for _ in range(200)]\n",
    "ilahi_dataset[\"sarki_turu\"] = [2 for _ in range(200)]\n",
    "pop_dataset[\"sarki_turu\"] = [3 for _ in range(200)]\n",
    "rock_dataset[\"sarki_turu\"] = [4 for _ in range(200)]\n",
    "rap_dataset[\"sarki_turu\"] = [5 for _ in range(200)]\n",
    "\n",
    "df_dataset = pd.concat([halk_dataset, sanat_dataset, ilahi_dataset, pop_dataset, rock_dataset, rap_dataset], axis=0, ignore_index=True)\n",
    "\n",
    "df_dataset = df_dataset.reset_index(drop=True)"
   ]
  },
  {
   "attachments": {},
   "cell_type": "markdown",
   "metadata": {},
   "source": [
    "# Verilerin Temizlenmesi"
   ]
  },
  {
   "cell_type": "code",
   "execution_count": 3,
   "metadata": {},
   "outputs": [],
   "source": [
    "# Getting stop_words\n",
    "my_file = open(\"../raw_data/stop_words.txt\", \"r\")\n",
    "stop_words = my_file.read()\n",
    "stop_words = stop_words.replace('\\n', ' ').split(\" \")\n",
    "my_file.close()\n",
    "\n",
    "def clean_text(text):\n",
    "    # Satır boşluklarının kaldırılması\n",
    "    text = text.replace(\"\\n\\n\", \"\\n\")\n",
    "\n",
    "    # Satır Sonlarındaki Boşlukların Kaldırılması\n",
    "    lines = text.split(\"\\n\")\n",
    "    temp_text = \"\"\n",
    "    for line in lines:\n",
    "        temp_text += line.rstrip() + \"\\n\"\n",
    "    text = temp_text\n",
    "\n",
    "    # Noktalama İşaretlerinin Kaldırılması\n",
    "    text = text.translate(str.maketrans('', '', string.punctuation))\n",
    "\n",
    "    # Küçük Harf Dönüşümü\n",
    "    text = text.lower()\n",
    "\n",
    "    # stop word'lerin kaldırılması\n",
    "    lines = text.split('\\n')\n",
    "    for i, line in enumerate(lines):\n",
    "        words = line.split()\n",
    "        filtered_words = [word for word in words if word.lower() not in stop_words]\n",
    "        lines[i] = ' '.join(filtered_words)\n",
    "    text = '\\n'.join(lines)\n",
    "    \n",
    "    return text\n",
    "\n",
    "\n",
    "\n",
    "df_dataset[\"sarki_sozu\"] = [clean_text(lyrics) for lyrics in df_dataset.loc[:,\"sarki_sozu\"]]"
   ]
  },
  {
   "attachments": {},
   "cell_type": "markdown",
   "metadata": {},
   "source": [
    "##### [CLS] ve [SEP] İşaretlerinin Eklenmesi"
   ]
  },
  {
   "cell_type": "code",
   "execution_count": 4,
   "metadata": {},
   "outputs": [],
   "source": [
    "df_dataset[\"sarki_sozu\"] = [\"[CLS]\" + lyrics.replace(\"\\n\", \"[SEP]\") for lyrics in df_dataset.loc[:,\"sarki_sozu\"]]"
   ]
  },
  {
   "attachments": {},
   "cell_type": "markdown",
   "metadata": {},
   "source": [
    "### Kelimeleri Ayırma"
   ]
  },
  {
   "cell_type": "code",
   "execution_count": 5,
   "metadata": {},
   "outputs": [],
   "source": [
    "split_chars = [\"[CLS]\", \" \", \"[SEP]\"]\n",
    "\n",
    "splitted_words_for_all_lyrics_in_data = []\n",
    "for lyrics in df_dataset.loc[:, \"sarki_sozu\"]:\n",
    "    words = []\n",
    "    for char in split_chars:\n",
    "        lyrics = lyrics.replace(char, \" \")\n",
    "    words = lyrics.split()\n",
    "    splitted_words_for_all_lyrics_in_data.append(words)\n",
    "kelimeler = splitted_words_for_all_lyrics_in_data"
   ]
  },
  {
   "cell_type": "code",
   "execution_count": 6,
   "metadata": {},
   "outputs": [
    {
     "name": "stdout",
     "output_type": "stream",
     "text": [
      "822\n"
     ]
    }
   ],
   "source": [
    "max_length = 0\n",
    "for words in kelimeler:\n",
    "    if len(words) > max_length:\n",
    "        max_length = len(words)\n",
    "\n",
    "print(max_length)"
   ]
  },
  {
   "cell_type": "code",
   "execution_count": 11,
   "metadata": {},
   "outputs": [],
   "source": [
    "#verileri kullanabilirsin"
   ]
  },
  {
   "cell_type": "code",
   "execution_count": null,
   "metadata": {},
   "outputs": [],
   "source": [
    "import pos_tagger\n",
    "\n",
    "for data in dataset:\n",
    "    pos_tags_list = []\n",
    "    verb_rate_list = []\n",
    "    for lyrics in data.loc[:, \"sarki_sozu\"]:\n",
    "        pos_tags = pos_tagger.get_pos_tags(lyrics.replace(\"[CLS]\", \"\").replace(\"[SEP]\", \"\\n\"))\n",
    "        pos_tags_list.append(pos_tags)\n",
    "        verb_rate_list.append(round(pos_tags.count(pos_tagger.POSTag.Verb.name) / len(pos_tags), 2))\n",
    "    data[\"pos_tagler\"] = pos_tags_list\n",
    "    data[\"fiil_orani\"] = verb_rate_list\n"
   ]
  },
  {
   "cell_type": "code",
   "execution_count": null,
   "metadata": {},
   "outputs": [],
   "source": [
    "for data in dataset:\n",
    "    print(sum(data.loc[:, \"fiil_orani\"]) / len(data.loc[:, \"fiil_orani\"]))"
   ]
  }
 ],
 "metadata": {
  "kernelspec": {
   "display_name": "base",
   "language": "python",
   "name": "python3"
  },
  "language_info": {
   "codemirror_mode": {
    "name": "ipython",
    "version": 3
   },
   "file_extension": ".py",
   "mimetype": "text/x-python",
   "name": "python",
   "nbconvert_exporter": "python",
   "pygments_lexer": "ipython3",
   "version": "3.9.16"
  },
  "orig_nbformat": 4
 },
 "nbformat": 4,
 "nbformat_minor": 2
}
