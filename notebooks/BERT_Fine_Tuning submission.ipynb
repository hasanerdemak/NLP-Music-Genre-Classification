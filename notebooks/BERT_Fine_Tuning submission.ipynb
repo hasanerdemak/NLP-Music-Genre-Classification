{
 "cells": [
  {
   "attachments": {},
   "cell_type": "markdown",
   "metadata": {},
   "source": [
    "code link: https://www.kaggle.com/code/neerajmohan/fine-tuning-bert-for-text-classification"
   ]
  },
  {
   "cell_type": "code",
   "execution_count": 1,
   "metadata": {},
   "outputs": [],
   "source": [
    "import numpy as np\n",
    "import pandas as pd\n",
    "import time\n",
    "import datetime\n",
    "import gc\n",
    "import random\n",
    "import string\n",
    "\n",
    "import torch\n",
    "import gc\n",
    "gc.collect()\n",
    "torch.cuda.empty_cache()\n",
    "from torch.utils.data import TensorDataset, DataLoader, RandomSampler, SequentialSampler,random_split\n",
    "\n",
    "from transformers import BertForSequenceClassification, AdamW,BertTokenizer,get_linear_schedule_with_warmup"
   ]
  },
  {
   "attachments": {},
   "cell_type": "markdown",
   "metadata": {},
   "source": [
    "### Veri Okuma"
   ]
  },
  {
   "cell_type": "code",
   "execution_count": 2,
   "metadata": {},
   "outputs": [],
   "source": [
    "df_dataset = pd.read_csv(\"../dataset/dataset_without_stopwords.csv\").drop(columns=[\"baslik\"])"
   ]
  },
  {
   "attachments": {},
   "cell_type": "markdown",
   "metadata": {},
   "source": [
    "##### [CLS] ve [SEP] tokenlarının eklenmesi"
   ]
  },
  {
   "cell_type": "code",
   "execution_count": 4,
   "metadata": {},
   "outputs": [],
   "source": [
    "df_dataset[\"sarki_sozu\"] = [\"[CLS]\" + lyrics.replace(\"\\n\", \"[SEP]\") for lyrics in df_dataset.loc[:,\"sarki_sozu\"]]"
   ]
  },
  {
   "cell_type": "code",
   "execution_count": 6,
   "metadata": {},
   "outputs": [],
   "source": [
    "lyrics = df_dataset.loc[:,\"sarki_sozu\"].values\n",
    "labels = df_dataset.loc[:,\"sarki_turu\"].values"
   ]
  },
  {
   "cell_type": "code",
   "execution_count": 7,
   "metadata": {},
   "outputs": [
    {
     "data": {
      "text/plain": [
       "device(type='cuda', index=0)"
      ]
     },
     "execution_count": 7,
     "metadata": {},
     "output_type": "execute_result"
    }
   ],
   "source": [
    "device = torch.device(\"cuda:0\" if torch.cuda.is_available() else \"cpu\")\n",
    "device"
   ]
  },
  {
   "attachments": {},
   "cell_type": "markdown",
   "metadata": {},
   "source": [
    "# Submission"
   ]
  },
  {
   "cell_type": "code",
   "execution_count": 8,
   "metadata": {},
   "outputs": [],
   "source": [
    "model = torch.load('../models/bert_model')"
   ]
  },
  {
   "cell_type": "code",
   "execution_count": 9,
   "metadata": {},
   "outputs": [],
   "source": [
    "df_test = df_dataset.copy()\n",
    "test_lyrics = df_test['sarki_sozu'].values"
   ]
  },
  {
   "cell_type": "code",
   "execution_count": 10,
   "metadata": {},
   "outputs": [],
   "source": [
    "tokenizer = BertTokenizer.from_pretrained('dbmdz/bert-base-turkish-cased', do_lower_case=True)"
   ]
  },
  {
   "cell_type": "code",
   "execution_count": 11,
   "metadata": {},
   "outputs": [
    {
     "name": "stderr",
     "output_type": "stream",
     "text": [
      "Truncation was not explicitly activated but `max_length` is provided a specific value, please use `truncation=True` to explicitly truncate examples to max length. Defaulting to 'longest_first' truncation strategy. If you encode pairs of sequences (GLUE-style) with the tokenizer you can select this strategy more precisely by providing a specific strategy to `truncation`.\n",
      "c:\\Users\\HasanErdemAK\\anaconda3\\envs\\nlp\\lib\\site-packages\\transformers\\tokenization_utils_base.py:2304: FutureWarning: The `pad_to_max_length` argument is deprecated and will be removed in a future version, use `padding=True` or `padding='longest'` to pad to the longest sequence in the batch, or use `padding='max_length'` to pad to a max length. In this case, you can give a specific length with `max_length` (e.g. `max_length=45`) or leave max_length to None to pad to the maximal input size of the model (e.g. 512 for Bert).\n",
      "  warnings.warn(\n"
     ]
    }
   ],
   "source": [
    "test_input_ids = []\n",
    "test_attention_masks = []\n",
    "for lyrics in test_lyrics:\n",
    "    encoded_dict = tokenizer.encode_plus(\n",
    "                        lyrics,                     \n",
    "                        add_special_tokens = True, \n",
    "                        max_length = 512,           \n",
    "                        pad_to_max_length = True,\n",
    "                        return_attention_mask = True,\n",
    "                        return_tensors = 'pt',\n",
    "                   )\n",
    "    test_input_ids.append(encoded_dict['input_ids'])\n",
    "    test_attention_masks.append(encoded_dict['attention_mask'])\n",
    "test_input_ids = torch.cat(test_input_ids, dim=0)\n",
    "test_attention_masks = torch.cat(test_attention_masks, dim=0)"
   ]
  },
  {
   "cell_type": "code",
   "execution_count": 12,
   "metadata": {},
   "outputs": [],
   "source": [
    "test_dataset = TensorDataset(test_input_ids, test_attention_masks)\n",
    "test_dataloader = DataLoader(\n",
    "            test_dataset, # The validation samples.\n",
    "            sampler = SequentialSampler(test_dataset), # Pull out batches sequentially.\n",
    "            batch_size = 2 # Evaluate with this batch size.\n",
    "        )"
   ]
  },
  {
   "cell_type": "code",
   "execution_count": 13,
   "metadata": {},
   "outputs": [],
   "source": [
    "vector_preds = []\n",
    "predictions = []\n",
    "for batch in test_dataloader:\n",
    "        b_input_ids = batch[0].to(device)\n",
    "        b_input_mask = batch[1].to(device)\n",
    "        with torch.no_grad():        \n",
    "            output= model(b_input_ids, \n",
    "                                   token_type_ids=None, \n",
    "                                   attention_mask=b_input_mask)\n",
    "            logits = output.logits\n",
    "            logits = logits.detach().cpu().numpy()\n",
    "            pred_flat = np.argmax(logits, axis=1).flatten()\n",
    "            \n",
    "            predictions.extend(list(pred_flat))\n",
    "            temp_list = [logit.tolist() for logit in logits]\n",
    "            vector_preds.extend(temp_list)"
   ]
  },
  {
   "cell_type": "code",
   "execution_count": 14,
   "metadata": {},
   "outputs": [
    {
     "data": {
      "text/plain": [
       "[[6.865117073059082,\n",
       "  -0.23348672688007355,\n",
       "  -1.5631963014602661,\n",
       "  -1.5083428621292114,\n",
       "  -1.3236541748046875,\n",
       "  -1.542231798171997],\n",
       " [6.854511737823486,\n",
       "  -0.13916641473770142,\n",
       "  -1.474483847618103,\n",
       "  -1.4636982679367065,\n",
       "  -1.3609213829040527,\n",
       "  -1.610752820968628],\n",
       " [6.86132287979126,\n",
       "  -0.2804540991783142,\n",
       "  -1.6744719743728638,\n",
       "  -1.4116134643554688,\n",
       "  -1.2205173969268799,\n",
       "  -1.5300652980804443],\n",
       " [6.235579967498779,\n",
       "  -0.044917602092027664,\n",
       "  -1.9454907178878784,\n",
       "  -0.13787297904491425,\n",
       "  -1.3412141799926758,\n",
       "  -1.8223973512649536],\n",
       " [6.606011867523193,\n",
       "  0.421371191740036,\n",
       "  -1.6814998388290405,\n",
       "  -1.2813637256622314,\n",
       "  -1.5418347120285034,\n",
       "  -1.91470468044281],\n",
       " [0.4375429153442383,\n",
       "  -0.10549703240394592,\n",
       "  -1.715102195739746,\n",
       "  4.687652111053467,\n",
       "  -1.3462865352630615,\n",
       "  -2.453789234161377],\n",
       " [6.765493869781494,\n",
       "  -0.7332380414009094,\n",
       "  -0.5144410133361816,\n",
       "  -1.2446964979171753,\n",
       "  -1.37889564037323,\n",
       "  -1.6764421463012695],\n",
       " [6.8312225341796875,\n",
       "  -0.6773218512535095,\n",
       "  -1.5665509700775146,\n",
       "  -1.2234631776809692,\n",
       "  -0.9083401560783386,\n",
       "  -1.4820281267166138],\n",
       " [6.693386554718018,\n",
       "  -0.7971273064613342,\n",
       "  -1.5636183023452759,\n",
       "  -1.0832821130752563,\n",
       "  -0.7077076435089111,\n",
       "  -1.6770520210266113],\n",
       " [6.460052967071533,\n",
       "  -0.7498618364334106,\n",
       "  -1.6031142473220825,\n",
       "  -0.5630573034286499,\n",
       "  -0.8671728372573853,\n",
       "  -1.6397258043289185]]"
      ]
     },
     "execution_count": 14,
     "metadata": {},
     "output_type": "execute_result"
    }
   ],
   "source": [
    "vector_preds[:10]"
   ]
  },
  {
   "cell_type": "code",
   "execution_count": 15,
   "metadata": {},
   "outputs": [],
   "source": [
    "df_output = pd.DataFrame()\n",
    "\n",
    "df_output['sarki_turu'] =predictions\n",
    "df_output.to_csv('../submissions/submission.csv',index=True)"
   ]
  }
 ],
 "metadata": {
  "kernelspec": {
   "display_name": "nlp",
   "language": "python",
   "name": "python3"
  },
  "language_info": {
   "codemirror_mode": {
    "name": "ipython",
    "version": 3
   },
   "file_extension": ".py",
   "mimetype": "text/x-python",
   "name": "python",
   "nbconvert_exporter": "python",
   "pygments_lexer": "ipython3",
   "version": "3.9.16"
  },
  "orig_nbformat": 4
 },
 "nbformat": 4,
 "nbformat_minor": 2
}
