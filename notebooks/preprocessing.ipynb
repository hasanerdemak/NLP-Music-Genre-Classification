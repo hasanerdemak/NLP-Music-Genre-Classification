{
 "cells": [
  {
   "cell_type": "code",
   "execution_count": 5,
   "metadata": {},
   "outputs": [],
   "source": [
    "import pandas as pd\n",
    "import string\n",
    "import re\n",
    "\n",
    "import pos_tagger"
   ]
  },
  {
   "cell_type": "markdown",
   "metadata": {},
   "source": [
    "# Verisetinin Okunması"
   ]
  },
  {
   "cell_type": "code",
   "execution_count": 6,
   "metadata": {},
   "outputs": [],
   "source": [
    "halk_dataset = pd.read_csv(\"../raw_data/halk.csv\")\n",
    "sanat_dataset = pd.read_csv(\"../raw_data/sanat.csv\")\n",
    "ilahi_dataset = pd.read_csv(\"../raw_data/ilahi.csv\")\n",
    "pop_dataset = pd.read_csv(\"../raw_data/pop.csv\")\n",
    "rock_dataset = pd.read_csv(\"../raw_data/rock.csv\")\n",
    "rap_dataset = pd.read_csv(\"../raw_data/rap.csv\")\n",
    "\n",
    "# Veri Etiketleme\n",
    "halk_dataset[\"sarki_turu\"] = [\"halk\" for _ in range(200)]\n",
    "sanat_dataset[\"sarki_turu\"] = [\"sanat\" for _ in range(200)]\n",
    "ilahi_dataset[\"sarki_turu\"] = [\"ilahi\" for _ in range(200)]\n",
    "pop_dataset[\"sarki_turu\"] = [\"pop\" for _ in range(200)]\n",
    "rock_dataset[\"sarki_turu\"] = [\"rock\" for _ in range(200)]\n",
    "rap_dataset[\"sarki_turu\"] = [\"rap\" for _ in range(200)]\n",
    "\n",
    "df_dataset = pd.concat([halk_dataset, sanat_dataset, ilahi_dataset, pop_dataset, rock_dataset, rap_dataset], axis=0, ignore_index=True)\n",
    "\n",
    "df_dataset = df_dataset.reset_index().rename(columns={'index': 'id'})"
   ]
  },
  {
   "cell_type": "markdown",
   "metadata": {},
   "source": [
    "# Verilerin Temizlenmesi"
   ]
  },
  {
   "cell_type": "code",
   "execution_count": 7,
   "metadata": {},
   "outputs": [],
   "source": [
    "def clean_text(text):\n",
    "    # Satır boşluklarının kaldırılması\n",
    "    text = text.replace(\"\\n\\n\", \"\\n\")\n",
    "\n",
    "    # Satır Sonlarındaki Boşlukların Kaldırılması\n",
    "    lines = text.split(\"\\n\")\n",
    "    temp_text = \"\"\n",
    "    for line in lines:\n",
    "        temp_text += line.rstrip() + \"\\n\"\n",
    "    text = temp_text\n",
    "\n",
    "    # Noktalama İşaretlerinin Kaldırılması\n",
    "    text = text.translate(str.maketrans('', '', string.punctuation))\n",
    "\n",
    "    # Küçük Harf Dönüşümü\n",
    "    text = text.lower()\n",
    "\n",
    "    return text\n",
    "\n",
    "df_dataset[\"sarki_sozu\"] = [clean_text(lyrics) for lyrics in df_dataset.loc[:,\"sarki_sozu\"]]"
   ]
  },
  {
   "cell_type": "markdown",
   "metadata": {},
   "source": [
    "##### Eski Türkçe kelime oranlarının bulunması"
   ]
  },
  {
   "cell_type": "code",
   "execution_count": 8,
   "metadata": {},
   "outputs": [],
   "source": [
    "my_file = open(\"../raw_data/eski_turkce_kelimeler.txt\", \"r\")\n",
    "old_turkish_words = my_file.read()\n",
    "old_turkish_words = old_turkish_words.replace('\\n', ' ').split(\" \")\n",
    "my_file.close()\n",
    "\n",
    "def calculate_ratio(row):\n",
    "    lyrics = re.split('\\n| ', row['sarki_sozu'])\n",
    "    matched_words = [word for word in lyrics if word in old_turkish_words]\n",
    "    ratio = round(len(matched_words) / len(lyrics),2)\n",
    "    return ratio\n",
    "\n",
    "df_dataset['eski_turkce_kelime_orani'] = df_dataset.apply(calculate_ratio, axis=1)"
   ]
  },
  {
   "cell_type": "markdown",
   "metadata": {},
   "source": [
    "##### Pos Tag oranlarının eklenmesi"
   ]
  },
  {
   "cell_type": "code",
   "execution_count": 9,
   "metadata": {},
   "outputs": [],
   "source": [
    "verb_rate_list = []\n",
    "adj_rate_list = []\n",
    "adv_rate_list = []\n",
    "conj_rate_list = []\n",
    "interj_rate_list = []\n",
    "ques_rate_list = []\n",
    "unk_rate_list = []\n",
    "for lyrics in df_dataset.loc[:, \"sarki_sozu\"]:\n",
    "    pos_tags = pos_tagger.get_pos_tags(lyrics)\n",
    "    verb_rate_list.append(round(pos_tags.count(pos_tagger.POSTag.Verb.name) / len(pos_tags), 2))\n",
    "    adj_rate_list.append(round(pos_tags.count(pos_tagger.POSTag.Adj.name) / len(pos_tags), 2))\n",
    "    adv_rate_list.append(round(pos_tags.count(pos_tagger.POSTag.Adv.name) / len(pos_tags), 2))\n",
    "    conj_rate_list.append(round(pos_tags.count(pos_tagger.POSTag.Conj.name) / len(pos_tags), 2))\n",
    "    interj_rate_list.append(round(pos_tags.count(pos_tagger.POSTag.Interj.name) / len(pos_tags), 2))\n",
    "    ques_rate_list.append(round(pos_tags.count(pos_tagger.POSTag.Ques.name) / len(pos_tags), 2))\n",
    "    unk_rate_list.append(round(pos_tags.count(pos_tagger.POSTag.Unk.name) / len(pos_tags), 2))\n",
    "\n",
    "df_dataset[\"fiil_orani\"] = verb_rate_list\n",
    "df_dataset[\"sifat_orani\"] = adj_rate_list\n",
    "df_dataset[\"zarf_orani\"] = adv_rate_list\n",
    "df_dataset[\"baglac_orani\"] = conj_rate_list\n",
    "df_dataset[\"unlem_orani\"] = interj_rate_list\n",
    "df_dataset[\"soru_orani\"] = ques_rate_list\n",
    "df_dataset[\"bilinmeyen_orani\"] = unk_rate_list"
   ]
  },
  {
   "cell_type": "code",
   "execution_count": 10,
   "metadata": {},
   "outputs": [],
   "source": [
    "df_dataset.to_csv(\"../dataset/dataset.csv\", index=False)"
   ]
  },
  {
   "cell_type": "markdown",
   "metadata": {},
   "source": [
    "### Stop word'lerin kaldırılması"
   ]
  },
  {
   "cell_type": "code",
   "execution_count": 11,
   "metadata": {},
   "outputs": [],
   "source": [
    "# Getting stop_words\n",
    "my_file = open(\"../raw_data/stop_words.txt\", \"r\")\n",
    "stop_words = my_file.read()\n",
    "stop_words = stop_words.replace('\\n', ' ').split(\" \")\n",
    "my_file.close()    \n",
    "\n",
    "def remove_stopwords(text):\n",
    "    # Split text into lines\n",
    "    lines = text.split('\\n')\n",
    "    \n",
    "    # Remove stopwords from each line\n",
    "    for i, line in enumerate(lines):\n",
    "        words = line.split()\n",
    "        filtered_words = [word for word in words if word.lower() not in stop_words]\n",
    "        lines[i] = ' '.join(filtered_words)\n",
    "    \n",
    "    # Join lines back together with line breaks\n",
    "    return '\\n'.join(lines)\n",
    "\n",
    "df_dataset[\"sarki_sozu\"] = [remove_stopwords(lyrics) for lyrics in df_dataset.loc[:,\"sarki_sozu\"]]"
   ]
  },
  {
   "cell_type": "markdown",
   "metadata": {},
   "source": [
    "##### Eski Türkçe kelime oranlarının bulunması"
   ]
  },
  {
   "cell_type": "code",
   "execution_count": 12,
   "metadata": {},
   "outputs": [],
   "source": [
    "my_file = open(\"../raw_data/eski_turkce_kelimeler.txt\", \"r\")\n",
    "old_turkish_words = my_file.read()\n",
    "old_turkish_words = old_turkish_words.replace('\\n', ' ').split(\" \")\n",
    "my_file.close()\n",
    "\n",
    "def calculate_ratio(row):\n",
    "    lyrics = re.split('\\n| ', row['sarki_sozu'])\n",
    "    matched_words = [word for word in lyrics if word in old_turkish_words]\n",
    "    ratio = round(len(matched_words) / len(lyrics), 2)\n",
    "    return ratio\n",
    "\n",
    "df_dataset['eski_turkce_kelime_orani'] = df_dataset.apply(calculate_ratio, axis=1)"
   ]
  },
  {
   "cell_type": "markdown",
   "metadata": {},
   "source": [
    "##### Pos Tag oranlarının eklenmesi"
   ]
  },
  {
   "cell_type": "code",
   "execution_count": 13,
   "metadata": {},
   "outputs": [],
   "source": [
    "verb_rate_list = []\n",
    "adj_rate_list = []\n",
    "adv_rate_list = []\n",
    "conj_rate_list = []\n",
    "interj_rate_list = []\n",
    "ques_rate_list = []\n",
    "unk_rate_list = []\n",
    "for lyrics in df_dataset.loc[:, \"sarki_sozu\"]:\n",
    "    pos_tags = pos_tagger.get_pos_tags(lyrics)\n",
    "    verb_rate_list.append(round(pos_tags.count(pos_tagger.POSTag.Verb.name) / len(pos_tags), 2))\n",
    "    adj_rate_list.append(round(pos_tags.count(pos_tagger.POSTag.Adj.name) / len(pos_tags), 2))\n",
    "    adv_rate_list.append(round(pos_tags.count(pos_tagger.POSTag.Adv.name) / len(pos_tags), 2))\n",
    "    conj_rate_list.append(round(pos_tags.count(pos_tagger.POSTag.Conj.name) / len(pos_tags), 2))\n",
    "    interj_rate_list.append(round(pos_tags.count(pos_tagger.POSTag.Interj.name) / len(pos_tags), 2))\n",
    "    ques_rate_list.append(round(pos_tags.count(pos_tagger.POSTag.Ques.name) / len(pos_tags), 2))\n",
    "    unk_rate_list.append(round(pos_tags.count(pos_tagger.POSTag.Unk.name) / len(pos_tags), 2))\n",
    "\n",
    "df_dataset[\"fiil_orani\"] = verb_rate_list\n",
    "df_dataset[\"sifat_orani\"] = adj_rate_list\n",
    "df_dataset[\"zarf_orani\"] = adv_rate_list\n",
    "df_dataset[\"baglac_orani\"] = conj_rate_list\n",
    "df_dataset[\"unlem_orani\"] = interj_rate_list\n",
    "df_dataset[\"soru_orani\"] = ques_rate_list\n",
    "df_dataset[\"bilinmeyen_orani\"] = unk_rate_list"
   ]
  },
  {
   "cell_type": "code",
   "execution_count": 14,
   "metadata": {},
   "outputs": [],
   "source": [
    "df_dataset.to_csv(\"../dataset/dataset_without_stopwords.csv\", index=False)"
   ]
  },
  {
   "cell_type": "code",
   "execution_count": 22,
   "metadata": {},
   "outputs": [
    {
     "data": {
      "image/png": "[encoded data removed]",
      "text/plain": [
       "<Figure size 432x288 with 1 Axes>"
      ]
     },
     "metadata": {
      "needs_background": "light"
     },
     "output_type": "display_data"
    }
   ],
   "source": [
    "\n",
    "halk=df_dataset.loc[df_dataset[\"sarki_turu\"] == \"halk\"]['eski_turkce_kelime_orani'].mean()\n",
    "sanat=df_dataset.loc[df_dataset[\"sarki_turu\"] == \"sanat\"]['eski_turkce_kelime_orani'].mean()\n",
    "ilahi=df_dataset.loc[df_dataset[\"sarki_turu\"] == \"ilahi\"]['eski_turkce_kelime_orani'].mean()\n",
    "pop=df_dataset.loc[df_dataset[\"sarki_turu\"] == \"pop\"]['eski_turkce_kelime_orani'].mean()\n",
    "rock=df_dataset.loc[df_dataset[\"sarki_turu\"] == \"rock\"]['eski_turkce_kelime_orani'].mean()\n",
    "rap=df_dataset.loc[df_dataset[\"sarki_turu\"] == \"rap\"]['eski_turkce_kelime_orani'].mean()\n",
    "\n",
    "# Define the data\n",
    "import matplotlib.pyplot as plt\n",
    "genres = [\"pop\",\"rock\",\"rap\",\"ilahi\",\"sanat\",\"halk\"]\n",
    "values = [pop,rock,rap,ilahi,sanat,halk]\n",
    "\n",
    "# Create the histogram\n",
    "plt.bar(genres, values, color='purple')\n",
    "#plt.ylim(5, 10)\n",
    "# Add labels and title\n",
    "plt.xlabel('Müzik Türü')\n",
    "plt.ylabel('Oran')\n",
    "plt.title('eski_turkce_kelime_orani')\n",
    "\n",
    "# Show the plot\n",
    "plt.show()"
   ]
  },
  {
   "cell_type": "code",
   "execution_count": 24,
   "metadata": {},
   "outputs": [
    {
     "data": {
      "image/png": "[encoded data removed]",
      "text/plain": [
       "<Figure size 432x288 with 1 Axes>"
      ]
     },
     "metadata": {
      "needs_background": "light"
     },
     "output_type": "display_data"
    }
   ],
   "source": [
    "\n",
    "halk=df_dataset.loc[df_dataset[\"sarki_turu\"] == \"halk\"]['fiil_orani'].mean()\n",
    "sanat=df_dataset.loc[df_dataset[\"sarki_turu\"] == \"sanat\"]['fiil_orani'].mean()\n",
    "ilahi=df_dataset.loc[df_dataset[\"sarki_turu\"] == \"ilahi\"]['fiil_orani'].mean()\n",
    "pop=df_dataset.loc[df_dataset[\"sarki_turu\"] == \"pop\"]['fiil_orani'].mean()\n",
    "rock=df_dataset.loc[df_dataset[\"sarki_turu\"] == \"rock\"]['fiil_orani'].mean()\n",
    "rap=df_dataset.loc[df_dataset[\"sarki_turu\"] == \"rap\"]['fiil_orani'].mean()\n",
    "\n",
    "genres = [\"pop\",\"rock\",\"rap\",\"ilahi\",\"sanat\",\"halk\"]\n",
    "values = [pop,rock,rap,ilahi,sanat,halk]\n",
    "\n",
    "# Create the histogram\n",
    "plt.bar(genres, values, color='purple')\n",
    "#plt.ylim(5, 10)\n",
    "# Add labels and title\n",
    "plt.xlabel('Müzik Türü')\n",
    "plt.ylabel('Oran')\n",
    "plt.title('fiil_orani')\n",
    "\n",
    "# Show the plot\n",
    "plt.show()"
   ]
  },
  {
   "cell_type": "code",
   "execution_count": 25,
   "metadata": {},
   "outputs": [],
   "source": [
    "# Define the data\n"
   ]
  },
  {
   "cell_type": "code",
   "execution_count": 26,
   "metadata": {},
   "outputs": [
    {
     "data": {
      "image/png": "[encoded data removed]",
      "text/plain": [
       "<Figure size 432x288 with 1 Axes>"
      ]
     },
     "metadata": {
      "needs_background": "light"
     },
     "output_type": "display_data"
    }
   ],
   "source": [
    "\n",
    "halk=df_dataset.loc[df_dataset[\"sarki_turu\"] == \"halk\"]['sifat_orani'].mean()\n",
    "sanat=df_dataset.loc[df_dataset[\"sarki_turu\"] == \"sanat\"]['sifat_orani'].mean()\n",
    "ilahi=df_dataset.loc[df_dataset[\"sarki_turu\"] == \"ilahi\"]['sifat_orani'].mean()\n",
    "pop=df_dataset.loc[df_dataset[\"sarki_turu\"] == \"pop\"]['sifat_orani'].mean()\n",
    "rock=df_dataset.loc[df_dataset[\"sarki_turu\"] == \"rock\"]['sifat_orani'].mean()\n",
    "rap=df_dataset.loc[df_dataset[\"sarki_turu\"] == \"rap\"]['sifat_orani'].mean()\n",
    "\n",
    "# Define the data\n",
    "genres = [\"pop\",\"rock\",\"rap\",\"ilahi\",\"sanat\",\"halk\"]\n",
    "values = [pop,rock,rap,ilahi,sanat,halk]\n",
    "\n",
    "# Create the histogram\n",
    "plt.bar(genres, values, color='purple')\n",
    "#plt.ylim(5, 10)\n",
    "# Add labels and title\n",
    "plt.xlabel('Müzik Türü')\n",
    "plt.ylabel('Oran')\n",
    "plt.title('sifat_orani')\n",
    "\n",
    "# Show the plot\n",
    "plt.show()\n"
   ]
  },
  {
   "cell_type": "code",
   "execution_count": 27,
   "metadata": {},
   "outputs": [
    {
     "data": {
      "image/png": "[encoded data removed]",
      "text/plain": [
       "<Figure size 432x288 with 1 Axes>"
      ]
     },
     "metadata": {
      "needs_background": "light"
     },
     "output_type": "display_data"
    }
   ],
   "source": [
    "\n",
    "halk=df_dataset.loc[df_dataset[\"sarki_turu\"] == \"halk\"]['zarf_orani'].mean()\n",
    "sanat=df_dataset.loc[df_dataset[\"sarki_turu\"] == \"sanat\"]['zarf_orani'].mean()\n",
    "ilahi=df_dataset.loc[df_dataset[\"sarki_turu\"] == \"ilahi\"]['zarf_orani'].mean()\n",
    "pop=df_dataset.loc[df_dataset[\"sarki_turu\"] == \"pop\"]['zarf_orani'].mean()\n",
    "rock=df_dataset.loc[df_dataset[\"sarki_turu\"] == \"rock\"]['zarf_orani'].mean()\n",
    "rap=df_dataset.loc[df_dataset[\"sarki_turu\"] == \"rap\"]['zarf_orani'].mean()\n",
    "\n",
    "# Define the data\n",
    "genres = [\"pop\",\"rock\",\"rap\",\"ilahi\",\"sanat\",\"halk\"]\n",
    "values = [pop,rock,rap,ilahi,sanat,halk]\n",
    "\n",
    "# Create the histogram\n",
    "plt.bar(genres, values, color='purple')\n",
    "#plt.ylim(5, 10)\n",
    "# Add labels and title\n",
    "plt.xlabel('Müzik Türü')\n",
    "plt.ylabel('Oran')\n",
    "plt.title('zarf_orani')\n",
    "\n",
    "# Show the plot\n",
    "plt.show()\n"
   ]
  },
  {
   "cell_type": "code",
   "execution_count": 28,
   "metadata": {},
   "outputs": [
    {
     "data": {
      "image/png": "[encoded data removed]",
      "text/plain": [
       "<Figure size 432x288 with 1 Axes>"
      ]
     },
     "metadata": {
      "needs_background": "light"
     },
     "output_type": "display_data"
    }
   ],
   "source": [
    "\n",
    "halk=df_dataset.loc[df_dataset[\"sarki_turu\"] == \"halk\"]['baglac_orani'].mean()\n",
    "sanat=df_dataset.loc[df_dataset[\"sarki_turu\"] == \"sanat\"]['baglac_orani'].mean()\n",
    "ilahi=df_dataset.loc[df_dataset[\"sarki_turu\"] == \"ilahi\"]['baglac_orani'].mean()\n",
    "pop=df_dataset.loc[df_dataset[\"sarki_turu\"] == \"pop\"]['baglac_orani'].mean()\n",
    "rock=df_dataset.loc[df_dataset[\"sarki_turu\"] == \"rock\"]['baglac_orani'].mean()\n",
    "rap=df_dataset.loc[df_dataset[\"sarki_turu\"] == \"rap\"]['baglac_orani'].mean()\n",
    "\n",
    "# Define the data\n",
    "genres = [\"pop\",\"rock\",\"rap\",\"ilahi\",\"sanat\",\"halk\"]\n",
    "values = [pop,rock,rap,ilahi,sanat,halk]\n",
    "\n",
    "# Create the histogram\n",
    "plt.bar(genres, values, color='purple')\n",
    "#plt.ylim(5, 10)\n",
    "# Add labels and title\n",
    "plt.xlabel('Müzik Türü')\n",
    "plt.ylabel('Oran')\n",
    "plt.title('baglac_orani')\n",
    "\n",
    "# Show the plot\n",
    "plt.show()\n"
   ]
  },
  {
   "cell_type": "code",
   "execution_count": 29,
   "metadata": {},
   "outputs": [
    {
     "data": {
      "image/png": "[encoded data removed]",
      "text/plain": [
       "<Figure size 432x288 with 1 Axes>"
      ]
     },
     "metadata": {
      "needs_background": "light"
     },
     "output_type": "display_data"
    }
   ],
   "source": [
    "\n",
    "halk=df_dataset.loc[df_dataset[\"sarki_turu\"] == \"halk\"]['unlem_orani'].mean()\n",
    "sanat=df_dataset.loc[df_dataset[\"sarki_turu\"] == \"sanat\"]['unlem_orani'].mean()\n",
    "ilahi=df_dataset.loc[df_dataset[\"sarki_turu\"] == \"ilahi\"]['unlem_orani'].mean()\n",
    "pop=df_dataset.loc[df_dataset[\"sarki_turu\"] == \"pop\"]['unlem_orani'].mean()\n",
    "rock=df_dataset.loc[df_dataset[\"sarki_turu\"] == \"rock\"]['unlem_orani'].mean()\n",
    "rap=df_dataset.loc[df_dataset[\"sarki_turu\"] == \"rap\"]['unlem_orani'].mean()\n",
    "\n",
    "# Define the data\n",
    "genres = [\"pop\",\"rock\",\"rap\",\"ilahi\",\"sanat\",\"halk\"]\n",
    "values = [pop,rock,rap,ilahi,sanat,halk]\n",
    "\n",
    "# Create the histogram\n",
    "plt.bar(genres, values, color='purple')\n",
    "#plt.ylim(5, 10)\n",
    "# Add labels and title\n",
    "plt.xlabel('Müzik Türü')\n",
    "plt.ylabel('Oran')\n",
    "plt.title('unlem_orani')\n",
    "\n",
    "# Show the plot\n",
    "plt.show()\n"
   ]
  },
  {
   "cell_type": "code",
   "execution_count": 30,
   "metadata": {},
   "outputs": [
    {
     "data": {
      "image/png": "[encoded data removed]",
      "text/plain": [
       "<Figure size 432x288 with 1 Axes>"
      ]
     },
     "metadata": {
      "needs_background": "light"
     },
     "output_type": "display_data"
    }
   ],
   "source": [
    "\n",
    "halk=df_dataset.loc[df_dataset[\"sarki_turu\"] == \"halk\"]['soru_orani'].mean()\n",
    "sanat=df_dataset.loc[df_dataset[\"sarki_turu\"] == \"sanat\"]['soru_orani'].mean()\n",
    "ilahi=df_dataset.loc[df_dataset[\"sarki_turu\"] == \"ilahi\"]['soru_orani'].mean()\n",
    "pop=df_dataset.loc[df_dataset[\"sarki_turu\"] == \"pop\"]['soru_orani'].mean()\n",
    "rock=df_dataset.loc[df_dataset[\"sarki_turu\"] == \"rock\"]['soru_orani'].mean()\n",
    "rap=df_dataset.loc[df_dataset[\"sarki_turu\"] == \"rap\"]['soru_orani'].mean()\n",
    "\n",
    "# Define the data\n",
    "genres = [\"pop\",\"rock\",\"rap\",\"ilahi\",\"sanat\",\"halk\"]\n",
    "values = [pop,rock,rap,ilahi,sanat,halk]\n",
    "\n",
    "# Create the histogram\n",
    "plt.bar(genres, values, color='purple')\n",
    "#plt.ylim(5, 10)\n",
    "# Add labels and title\n",
    "plt.xlabel('Müzik Türü')\n",
    "plt.ylabel('Oran')\n",
    "plt.title('soru_orani')\n",
    "\n",
    "# Show the plot\n",
    "plt.show()\n"
   ]
  },
  {
   "cell_type": "code",
   "execution_count": 31,
   "metadata": {},
   "outputs": [
    {
     "data": {
      "image/png": "[encoded data removed]",
      "text/plain": [
       "<Figure size 432x288 with 1 Axes>"
      ]
     },
     "metadata": {
      "needs_background": "light"
     },
     "output_type": "display_data"
    }
   ],
   "source": [
    "\n",
    "halk=df_dataset.loc[df_dataset[\"sarki_turu\"] == \"halk\"]['bilinmeyen_orani'].mean()\n",
    "sanat=df_dataset.loc[df_dataset[\"sarki_turu\"] == \"sanat\"]['bilinmeyen_orani'].mean()\n",
    "ilahi=df_dataset.loc[df_dataset[\"sarki_turu\"] == \"ilahi\"]['bilinmeyen_orani'].mean()\n",
    "pop=df_dataset.loc[df_dataset[\"sarki_turu\"] == \"pop\"]['bilinmeyen_orani'].mean()\n",
    "rock=df_dataset.loc[df_dataset[\"sarki_turu\"] == \"rock\"]['bilinmeyen_orani'].mean()\n",
    "rap=df_dataset.loc[df_dataset[\"sarki_turu\"] == \"rap\"]['bilinmeyen_orani'].mean()\n",
    "\n",
    "# Define the data\n",
    "genres = [\"pop\",\"rock\",\"rap\",\"ilahi\",\"sanat\",\"halk\"]\n",
    "values = [pop,rock,rap,ilahi,sanat,halk]\n",
    "\n",
    "# Create the histogram\n",
    "plt.bar(genres, values, color='purple')\n",
    "#plt.ylim(5, 10)\n",
    "# Add labels and title\n",
    "plt.xlabel('Müzik Türü')\n",
    "plt.ylabel('Oran')\n",
    "plt.title('bilinmeyen_orani')\n",
    "\n",
    "# Show the plot\n",
    "plt.show()\n"
   ]
  },
  {
   "cell_type": "code",
   "execution_count": null,
   "metadata": {},
   "outputs": [],
   "source": []
  }
 ],
 "metadata": {
  "kernelspec": {
   "display_name": "Python 3 (ipykernel)",
   "language": "python",
   "name": "python3"
  },
  "language_info": {
   "codemirror_mode": {
    "name": "ipython",
    "version": 3
   },
   "file_extension": ".py",
   "mimetype": "text/x-python",
   "name": "python",
   "nbconvert_exporter": "python",
   "pygments_lexer": "ipython3",
   "version": "3.7.13"
  }
 },
 "nbformat": 4,
 "nbformat_minor": 2
}
