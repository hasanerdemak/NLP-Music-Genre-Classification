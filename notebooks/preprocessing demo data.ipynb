{
 "cells": [
  {
   "cell_type": "code",
   "execution_count": 19,
   "metadata": {},
   "outputs": [],
   "source": [
    "import pandas as pd\n",
    "import string\n",
    "import re\n",
    "\n",
    "import pos_tagger"
   ]
  },
  {
   "attachments": {},
   "cell_type": "markdown",
   "metadata": {},
   "source": [
    "# demo verisi"
   ]
  },
  {
   "cell_type": "code",
   "execution_count": 25,
   "metadata": {},
   "outputs": [],
   "source": [
    "lyrics = []\n",
    "lyrics.append(input())\n",
    "df_dataset = pd.DataFrame()\n",
    "df_dataset[\"sarki_sozu\"] = lyrics"
   ]
  },
  {
   "attachments": {},
   "cell_type": "markdown",
   "metadata": {},
   "source": [
    "# Verilerin Temizlenmesi"
   ]
  },
  {
   "cell_type": "code",
   "execution_count": 21,
   "metadata": {},
   "outputs": [],
   "source": [
    "def clean_text(text):\n",
    "    # Satır boşluklarının kaldırılması\n",
    "    text = text.replace(\"\\n\\n\", \"\\n\")\n",
    "\n",
    "    # Satır Sonlarındaki Boşlukların Kaldırılması\n",
    "    lines = text.split(\"\\n\")\n",
    "    temp_text = \"\"\n",
    "    for line in lines:\n",
    "        temp_text += line.rstrip() + \"\\n\"\n",
    "    text = temp_text.rstrip(\"\\n\")\n",
    "\n",
    "    # Noktalama İşaretlerinin Kaldırılması\n",
    "    text = text.translate(str.maketrans('', '', string.punctuation))\n",
    "\n",
    "    # Küçük Harf Dönüşümü\n",
    "    text = text.lower()\n",
    "\n",
    "    return text\n",
    "\n",
    "df_dataset[\"sarki_sozu\"] = [clean_text(lyrics) for lyrics in df_dataset.loc[:,\"sarki_sozu\"]]"
   ]
  },
  {
   "attachments": {},
   "cell_type": "markdown",
   "metadata": {},
   "source": [
    "##### Eski Türkçe kelime oranlarının bulunması"
   ]
  },
  {
   "cell_type": "code",
   "execution_count": 22,
   "metadata": {},
   "outputs": [],
   "source": [
    "my_file = open(\"../raw_data/eski_turkce_kelimeler.txt\", \"r\")\n",
    "old_turkish_words = my_file.read()\n",
    "old_turkish_words = old_turkish_words.replace('\\n', ' ').split(\" \")\n",
    "my_file.close()\n",
    "\n",
    "def calculate_ratio(row):\n",
    "    lyrics = re.split('\\n| ', row['sarki_sozu'])\n",
    "    matched_words = [word for word in lyrics if word in old_turkish_words]\n",
    "    ratio = round(len(matched_words) / len(lyrics),2)\n",
    "    return ratio\n",
    "\n",
    "df_dataset['eski_turkce_kelime_orani'] = df_dataset.apply(calculate_ratio, axis=1)"
   ]
  },
  {
   "attachments": {},
   "cell_type": "markdown",
   "metadata": {},
   "source": [
    "##### Pos Tag oranlarının eklenmesi"
   ]
  },
  {
   "cell_type": "code",
   "execution_count": 23,
   "metadata": {},
   "outputs": [],
   "source": [
    "verb_rate_list = []\n",
    "adj_rate_list = []\n",
    "adv_rate_list = []\n",
    "conj_rate_list = []\n",
    "interj_rate_list = []\n",
    "ques_rate_list = []\n",
    "unk_rate_list = []\n",
    "for lyrics in df_dataset.loc[:, \"sarki_sozu\"]:\n",
    "    pos_tags = pos_tagger.get_pos_tags(lyrics)\n",
    "    verb_rate_list.append(round(pos_tags.count(pos_tagger.POSTag.Verb.name) / len(pos_tags), 2))\n",
    "    adj_rate_list.append(round(pos_tags.count(pos_tagger.POSTag.Adj.name) / len(pos_tags), 2))\n",
    "    adv_rate_list.append(round(pos_tags.count(pos_tagger.POSTag.Adv.name) / len(pos_tags), 2))\n",
    "    conj_rate_list.append(round(pos_tags.count(pos_tagger.POSTag.Conj.name) / len(pos_tags), 2))\n",
    "    interj_rate_list.append(round(pos_tags.count(pos_tagger.POSTag.Interj.name) / len(pos_tags), 2))\n",
    "    ques_rate_list.append(round(pos_tags.count(pos_tagger.POSTag.Ques.name) / len(pos_tags), 2))\n",
    "    unk_rate_list.append(round(pos_tags.count(pos_tagger.POSTag.Unk.name) / len(pos_tags), 2))\n",
    "\n",
    "df_dataset[\"fiil_orani\"] = verb_rate_list\n",
    "df_dataset[\"sifat_orani\"] = adj_rate_list\n",
    "df_dataset[\"zarf_orani\"] = adv_rate_list\n",
    "df_dataset[\"baglac_orani\"] = conj_rate_list\n",
    "df_dataset[\"unlem_orani\"] = interj_rate_list\n",
    "df_dataset[\"soru_orani\"] = ques_rate_list\n",
    "df_dataset[\"bilinmeyen_orani\"] = unk_rate_list"
   ]
  },
  {
   "cell_type": "code",
   "execution_count": 24,
   "metadata": {},
   "outputs": [],
   "source": [
    "df_dataset.to_csv(\"../dataset/demo_dataset.csv\", index=False)"
   ]
  }
 ],
 "metadata": {
  "kernelspec": {
   "display_name": "base",
   "language": "python",
   "name": "python3"
  },
  "language_info": {
   "codemirror_mode": {
    "name": "ipython",
    "version": 3
   },
   "file_extension": ".py",
   "mimetype": "text/x-python",
   "name": "python",
   "nbconvert_exporter": "python",
   "pygments_lexer": "ipython3",
   "version": "3.9.16"
  },
  "orig_nbformat": 4
 },
 "nbformat": 4,
 "nbformat_minor": 2
}
