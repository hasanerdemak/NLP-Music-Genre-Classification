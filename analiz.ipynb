{
 "cells": [
  {
   "cell_type": "code",
   "execution_count": 141,
   "metadata": {},
   "outputs": [],
   "source": [
    "import pandas as pd\n",
    "import numpy as np\n",
    "import matplotlib.pyplot as plt\n",
    "import string"
   ]
  },
  {
   "attachments": {},
   "cell_type": "markdown",
   "metadata": {},
   "source": [
    "# Verisetinin Okunması"
   ]
  },
  {
   "cell_type": "code",
   "execution_count": 142,
   "metadata": {},
   "outputs": [],
   "source": [
    "halk_dataset = pd.read_csv(\"Sarki Sozleri/halk.csv\")\n",
    "sanat_dataset = pd.read_csv(\"Sarki Sozleri/sanat.csv\")\n",
    "ilahi_dataset = pd.read_csv(\"Sarki Sozleri/ilahi.csv\")\n",
    "pop_dataset = pd.read_csv(\"Sarki Sozleri/pop.csv\")\n",
    "rock_dataset = pd.read_csv(\"Sarki Sozleri/rock.csv\")\n",
    "rap_dataset = pd.read_csv(\"Sarki Sozleri/rap.csv\")\n",
    "\n",
    "dataset = [halk_dataset, sanat_dataset, ilahi_dataset, pop_dataset, rock_dataset, rap_dataset]"
   ]
  },
  {
   "attachments": {},
   "cell_type": "markdown",
   "metadata": {},
   "source": [
    "# Verilerin Temizlenmesi"
   ]
  },
  {
   "attachments": {},
   "cell_type": "markdown",
   "metadata": {},
   "source": [
    "##### Satır boşluklarının kaldırılması"
   ]
  },
  {
   "cell_type": "code",
   "execution_count": 143,
   "metadata": {},
   "outputs": [],
   "source": [
    "for data in dataset:\n",
    "    temp_lyrics = [lyrics.replace(\"\\n\\n\", \"\\n\") for lyrics in data.loc[:,\"sarki_sozu\"]]\n",
    "    data[\"sarki_sozu\"] = temp_lyrics"
   ]
  },
  {
   "attachments": {},
   "cell_type": "markdown",
   "metadata": {},
   "source": [
    "##### Satır Sonlarındaki Boşlukların Kaldırılması"
   ]
  },
  {
   "cell_type": "code",
   "execution_count": 144,
   "metadata": {},
   "outputs": [],
   "source": [
    "for data in dataset:\n",
    "    temp_lyrics = []\n",
    "    for lyrics in data.loc[:,\"sarki_sozu\"]:\n",
    "        lines = lyrics.split(\"\\n\")\n",
    "        lyrics = \"\"\n",
    "        for line in lines:\n",
    "            lyrics += line.rstrip() + \"\\n\"\n",
    "        temp_lyrics.append(lyrics)\n",
    "    data[\"sarki_sozu\"] = temp_lyrics"
   ]
  },
  {
   "attachments": {},
   "cell_type": "markdown",
   "metadata": {},
   "source": [
    "##### Noktalama İşaretlerinin Kaldırılması"
   ]
  },
  {
   "cell_type": "code",
   "execution_count": 145,
   "metadata": {},
   "outputs": [],
   "source": [
    "for data in dataset:\n",
    "    temp_lyrics = [lyrics.translate(str.maketrans('', '', string.punctuation)) for lyrics in data.loc[:,\"sarki_sozu\"]]\n",
    "    data[\"sarki_sozu\"] = temp_lyrics"
   ]
  },
  {
   "attachments": {},
   "cell_type": "markdown",
   "metadata": {},
   "source": [
    "##### Küçük Harf Dönüşümü"
   ]
  },
  {
   "cell_type": "code",
   "execution_count": 146,
   "metadata": {},
   "outputs": [],
   "source": [
    "for data in dataset:\n",
    "    temp_lyrics = [lyrics.lower() for lyrics in data.loc[:,\"sarki_sozu\"]]\n",
    "    data[\"sarki_sozu\"] = temp_lyrics"
   ]
  },
  {
   "attachments": {},
   "cell_type": "markdown",
   "metadata": {},
   "source": [
    "##### [CLS] ve [SEP] İşaretlerinin Konulması"
   ]
  },
  {
   "cell_type": "code",
   "execution_count": 147,
   "metadata": {},
   "outputs": [],
   "source": [
    "for data in dataset:\n",
    "    temp_lyrics = [\"[CLS]\" + lyrics.replace(\"\\n\", \"[SEP]\") for lyrics in data.loc[:,\"sarki_sozu\"]]\n",
    "    data[\"sarki_sozu\"] = temp_lyrics"
   ]
  },
  {
   "attachments": {},
   "cell_type": "markdown",
   "metadata": {},
   "source": [
    "### Kelimeleri Ayırma"
   ]
  },
  {
   "cell_type": "code",
   "execution_count": 148,
   "metadata": {},
   "outputs": [],
   "source": [
    "split_chars = [\"[CLS]\", \" \", \"[SEP]\"]\n",
    "\n",
    "for data in dataset:\n",
    "    splitted_words_for_all_lyrics_in_data = []\n",
    "    for lyrics in data.loc[:, \"sarki_sozu\"]:\n",
    "        words = []\n",
    "        for char in split_chars:\n",
    "            lyrics = lyrics.replace(char, \" \")\n",
    "        words = lyrics.split()\n",
    "        splitted_words_for_all_lyrics_in_data.append(words)\n",
    "    data[\"kelimeler\"] = splitted_words_for_all_lyrics_in_data"
   ]
  },
  {
   "cell_type": "code",
   "execution_count": null,
   "metadata": {},
   "outputs": [],
   "source": [
    "#verileri kullanabilirsin"
   ]
  }
 ],
 "metadata": {
  "kernelspec": {
   "display_name": "base",
   "language": "python",
   "name": "python3"
  },
  "language_info": {
   "codemirror_mode": {
    "name": "ipython",
    "version": 3
   },
   "file_extension": ".py",
   "mimetype": "text/x-python",
   "name": "python",
   "nbconvert_exporter": "python",
   "pygments_lexer": "ipython3",
   "version": "3.9.13"
  },
  "orig_nbformat": 4
 },
 "nbformat": 4,
 "nbformat_minor": 2
}
